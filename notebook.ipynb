{
 "cells": [
  {
   "cell_type": "code",
   "execution_count": 1,
   "id": "4f837969-5d4d-4a28-b41d-7e8e5bb7f898",
   "metadata": {},
   "outputs": [
    {
     "name": "stdout",
     "output_type": "stream",
     "text": [
      "Defaulting to user installation because normal site-packages is not writeable\n",
      "Obtaining file:///home/jupyter-lw786/pcba_project\n",
      "  Preparing metadata (setup.py) ... \u001b[?25ldone\n",
      "\u001b[?25hRequirement already satisfied: numpy>=1.20 in /opt/tljh/user/lib/python3.10/site-packages (from pcba-project==0.1.0) (1.25.2)\n",
      "Requirement already satisfied: matplotlib in /opt/tljh/user/lib/python3.10/site-packages (from pcba-project==0.1.0) (3.7.2)\n",
      "Requirement already satisfied: scipy in /opt/tljh/user/lib/python3.10/site-packages (from pcba-project==0.1.0) (1.11.1)\n",
      "Requirement already satisfied: contourpy>=1.0.1 in /opt/tljh/user/lib/python3.10/site-packages (from matplotlib->pcba-project==0.1.0) (1.2.1)\n",
      "Requirement already satisfied: cycler>=0.10 in /opt/tljh/user/lib/python3.10/site-packages (from matplotlib->pcba-project==0.1.0) (0.12.1)\n",
      "Requirement already satisfied: fonttools>=4.22.0 in /opt/tljh/user/lib/python3.10/site-packages (from matplotlib->pcba-project==0.1.0) (4.53.1)\n",
      "Requirement already satisfied: kiwisolver>=1.0.1 in /opt/tljh/user/lib/python3.10/site-packages (from matplotlib->pcba-project==0.1.0) (1.4.5)\n",
      "Requirement already satisfied: packaging>=20.0 in /opt/tljh/user/lib/python3.10/site-packages (from matplotlib->pcba-project==0.1.0) (24.1)\n",
      "Requirement already satisfied: pillow>=6.2.0 in /opt/tljh/user/lib/python3.10/site-packages (from matplotlib->pcba-project==0.1.0) (10.4.0)\n",
      "Requirement already satisfied: pyparsing<3.1,>=2.3.1 in /opt/tljh/user/lib/python3.10/site-packages (from matplotlib->pcba-project==0.1.0) (3.0.9)\n",
      "Requirement already satisfied: python-dateutil>=2.7 in /opt/tljh/user/lib/python3.10/site-packages (from matplotlib->pcba-project==0.1.0) (2.9.0.post0)\n",
      "Requirement already satisfied: six>=1.5 in /opt/tljh/user/lib/python3.10/site-packages (from python-dateutil>=2.7->matplotlib->pcba-project==0.1.0) (1.16.0)\n",
      "Installing collected packages: pcba-project\n",
      "\u001b[33m  DEPRECATION: Legacy editable install of pcba-project==0.1.0 from file:///home/jupyter-lw786/pcba_project (setup.py develop) is deprecated. pip 25.0 will enforce this behaviour change. A possible replacement is to add a pyproject.toml or enable --use-pep517, and use setuptools >= 64. If the resulting installation is not behaving as expected, try using --config-settings editable_mode=compat. Please consult the setuptools documentation for more information. Discussion can be found at https://github.com/pypa/pip/issues/11457\u001b[0m\u001b[33m\n",
      "\u001b[0m  Running setup.py develop for pcba-project\n",
      "Successfully installed pcba-project\n",
      "\n",
      "\u001b[1m[\u001b[0m\u001b[34;49mnotice\u001b[0m\u001b[1;39;49m]\u001b[0m\u001b[39;49m A new release of pip is available: \u001b[0m\u001b[31;49m24.2\u001b[0m\u001b[39;49m -> \u001b[0m\u001b[32;49m25.1\u001b[0m\n",
      "\u001b[1m[\u001b[0m\u001b[34;49mnotice\u001b[0m\u001b[1;39;49m]\u001b[0m\u001b[39;49m To update, run: \u001b[0m\u001b[32;49mpip install --upgrade pip\u001b[0m\n"
     ]
    }
   ],
   "source": [
    "!pip install -e .\n"
   ]
  },
  {
   "cell_type": "code",
   "execution_count": 2,
   "id": "0a27c251-f896-4482-be9c-e64b6cf757ed",
   "metadata": {},
   "outputs": [
    {
     "name": "stdout",
     "output_type": "stream",
     "text": [
      "导入成功，包文件位置： /home/jupyter-lw786/pcba_project/src/pcba_project/__init__.py\n"
     ]
    }
   ],
   "source": [
    "import pcba_project\n",
    "print(\"导入成功，包文件位置：\", pcba_project.__file__)\n"
   ]
  },
  {
   "cell_type": "code",
   "execution_count": null,
   "id": "403cd35c-e448-46dd-a6ea-2d4b3e8fe938",
   "metadata": {},
   "outputs": [],
   "source": []
  }
 ],
 "metadata": {
  "kernelspec": {
   "display_name": "Python 3 (ipykernel)",
   "language": "python",
   "name": "python3"
  },
  "language_info": {
   "codemirror_mode": {
    "name": "ipython",
    "version": 3
   },
   "file_extension": ".py",
   "mimetype": "text/x-python",
   "name": "python",
   "nbconvert_exporter": "python",
   "pygments_lexer": "ipython3",
   "version": "3.10.10"
  }
 },
 "nbformat": 4,
 "nbformat_minor": 5
}
